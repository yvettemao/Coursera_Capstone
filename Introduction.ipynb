{
 "cells": [
  {
   "cell_type": "markdown",
   "metadata": {},
   "source": [
    "### Introduction/Business Problem"
   ]
  },
  {
   "cell_type": "markdown",
   "metadata": {},
   "source": [
    "- Audience: Clients who would like to open a restaurant in the city of Shanghai.\n",
    "- Project Goal: To leverage the Foursquare location data to help clients find good locations to open the restaurant and determine which type of restaurant is most popular to open.\n",
    "- Project Meaning: In a metropolitan city like Shanghai, it is very crucial for restaurant owners to investment their money in the right place. If a restaurant owner opens an unpopular restaurant type with worst reviews, then this restaurant is certainly unworthy opening. If a popular type of restaurant is located in some remote places, then this restaurant is also unlikely to be successful."
   ]
  }
 ],
 "metadata": {
  "kernelspec": {
   "display_name": "Python",
   "language": "python",
   "name": "conda-env-python-py"
  },
  "language_info": {
   "codemirror_mode": {
    "name": "ipython",
    "version": 3
   },
   "file_extension": ".py",
   "mimetype": "text/x-python",
   "name": "python",
   "nbconvert_exporter": "python",
   "pygments_lexer": "ipython3",
   "version": "3.6.10"
  }
 },
 "nbformat": 4,
 "nbformat_minor": 4
}
