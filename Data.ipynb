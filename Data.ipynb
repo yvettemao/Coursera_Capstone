{
 "cells": [
  {
   "cell_type": "markdown",
   "metadata": {},
   "source": [
    "### Introduction/Business Problem"
   ]
  },
  {
   "cell_type": "markdown",
   "metadata": {},
   "source": [
    "- Audience: Clients who would like to open a restaurant in the city of Shanghai.\n",
    "- Project Goal: To leverage the Foursquare location data to help clients determine which type of restaurant is most popular among food-lovers. We will find top 5 common types of restaurants.\n",
    "- Project Meaning: In a metropolitan city like Shanghai, it is very crucial for restaurant owners to investment their money in the right place. If someone is seeking to open a new restaurant, he/she should lower their investment risk to open a restaurant that is most likely to win the local population's love."
   ]
  },
  {
   "cell_type": "markdown",
   "metadata": {},
   "source": [
    "### Data"
   ]
  },
  {
   "cell_type": "markdown",
   "metadata": {},
   "source": [
    "I will be using the Foursquare location data for the city of Shanghai.\n",
    "1. Use the geographical coordinate of Shanghai to explore the city.\n",
    "2. Get the venue type for the venues in a radius of Shanghai coordinate.\n",
    "3. Find the top 5 common venues that is under the restaurant category."
   ]
  }
 ],
 "metadata": {
  "kernelspec": {
   "display_name": "Python",
   "language": "python",
   "name": "conda-env-python-py"
  },
  "language_info": {
   "codemirror_mode": {
    "name": "ipython",
    "version": 3
   },
   "file_extension": ".py",
   "mimetype": "text/x-python",
   "name": "python",
   "nbconvert_exporter": "python",
   "pygments_lexer": "ipython3",
   "version": "3.6.10"
  }
 },
 "nbformat": 4,
 "nbformat_minor": 4
}
